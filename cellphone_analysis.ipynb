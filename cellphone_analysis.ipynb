{
 "cells": [
  {
   "cell_type": "code",
   "execution_count": 1,
   "id": "fbcd34e9-78ce-4b5f-9bb9-aa7eed8b8c15",
   "metadata": {},
   "outputs": [],
   "source": [
    "import pandas as pd"
   ]
  },
  {
   "cell_type": "code",
   "execution_count": 2,
   "id": "c851f25a-f4ec-459b-97ab-9bb9b9fe9e6b",
   "metadata": {},
   "outputs": [
    {
     "data": {
      "text/html": [
       "<div>\n",
       "<style scoped>\n",
       "    .dataframe tbody tr th:only-of-type {\n",
       "        vertical-align: middle;\n",
       "    }\n",
       "\n",
       "    .dataframe tbody tr th {\n",
       "        vertical-align: top;\n",
       "    }\n",
       "\n",
       "    .dataframe thead th {\n",
       "        text-align: right;\n",
       "    }\n",
       "</style>\n",
       "<table border=\"1\" class=\"dataframe\">\n",
       "  <thead>\n",
       "    <tr style=\"text-align: right;\">\n",
       "      <th></th>\n",
       "      <th>ID_DELEGACIA</th>\n",
       "      <th>NOME_DEPARTAMENTO</th>\n",
       "      <th>NOME_SECCIONAL</th>\n",
       "      <th>NOME_DELEGACIA</th>\n",
       "      <th>NOME_MUNICIPIO</th>\n",
       "      <th>ANO_BO</th>\n",
       "      <th>NUM_BO</th>\n",
       "      <th>VERSAO</th>\n",
       "      <th>NOME_DEPARTAMENTO_CIRC</th>\n",
       "      <th>NOME_SECCIONAL_CIRC</th>\n",
       "      <th>...</th>\n",
       "      <th>DESCR_MODO_OBJETO</th>\n",
       "      <th>DESCR_TIPO_OBJETO</th>\n",
       "      <th>DESCR_SUBTIPO_OBJETO</th>\n",
       "      <th>DESCR_UNIDADE</th>\n",
       "      <th>QUANTIDADE_OBJETO</th>\n",
       "      <th>MARCA_OBJETO</th>\n",
       "      <th>FLAG_BLOQUEIO</th>\n",
       "      <th>FLAG_DESBLOQUEIO</th>\n",
       "      <th>MES</th>\n",
       "      <th>ANO</th>\n",
       "    </tr>\n",
       "  </thead>\n",
       "  <tbody>\n",
       "    <tr>\n",
       "      <th>0</th>\n",
       "      <td>10008</td>\n",
       "      <td>DOPE-DEPTO OP POL ESTRAT.</td>\n",
       "      <td>DIV.POL.PORTO/AERO/PROT.TURISTA</td>\n",
       "      <td>DOPE - 01ª DP DEATUR CAPITAL</td>\n",
       "      <td>S.PAULO</td>\n",
       "      <td>2024</td>\n",
       "      <td>AG4396</td>\n",
       "      <td>1</td>\n",
       "      <td>DECAP</td>\n",
       "      <td>DEL.SEC.1º CENTRO</td>\n",
       "      <td>...</td>\n",
       "      <td>Subtraído</td>\n",
       "      <td>Telecomunicação</td>\n",
       "      <td>Telefone Celular</td>\n",
       "      <td>Unidade</td>\n",
       "      <td>1</td>\n",
       "      <td>Apple</td>\n",
       "      <td>S</td>\n",
       "      <td>N</td>\n",
       "      <td>1</td>\n",
       "      <td>2024</td>\n",
       "    </tr>\n",
       "    <tr>\n",
       "      <th>1</th>\n",
       "      <td>10101</td>\n",
       "      <td>DECAP</td>\n",
       "      <td>DEL.SEC.1º CENTRO</td>\n",
       "      <td>01º D.P. SE</td>\n",
       "      <td>S.PAULO</td>\n",
       "      <td>2024</td>\n",
       "      <td>AA5481</td>\n",
       "      <td>1</td>\n",
       "      <td>DECAP</td>\n",
       "      <td>DEL.SEC.1º CENTRO</td>\n",
       "      <td>...</td>\n",
       "      <td>Subtraído</td>\n",
       "      <td>Telecomunicação</td>\n",
       "      <td>Telefone Celular</td>\n",
       "      <td>Unidade</td>\n",
       "      <td>1</td>\n",
       "      <td>Xiaomi</td>\n",
       "      <td>NaN</td>\n",
       "      <td>NaN</td>\n",
       "      <td>1</td>\n",
       "      <td>2024</td>\n",
       "    </tr>\n",
       "    <tr>\n",
       "      <th>2</th>\n",
       "      <td>10101</td>\n",
       "      <td>DECAP</td>\n",
       "      <td>DEL.SEC.1º CENTRO</td>\n",
       "      <td>01º D.P. SE</td>\n",
       "      <td>S.PAULO</td>\n",
       "      <td>2024</td>\n",
       "      <td>AB5526</td>\n",
       "      <td>2</td>\n",
       "      <td>DECAP</td>\n",
       "      <td>DEL.SEC.1º CENTRO</td>\n",
       "      <td>...</td>\n",
       "      <td>Subtraído</td>\n",
       "      <td>Telecomunicação</td>\n",
       "      <td>Telefone Celular</td>\n",
       "      <td>Unidade</td>\n",
       "      <td>1</td>\n",
       "      <td>Samsung</td>\n",
       "      <td>NaN</td>\n",
       "      <td>NaN</td>\n",
       "      <td>1</td>\n",
       "      <td>2024</td>\n",
       "    </tr>\n",
       "    <tr>\n",
       "      <th>3</th>\n",
       "      <td>10101</td>\n",
       "      <td>DECAP</td>\n",
       "      <td>DEL.SEC.1º CENTRO</td>\n",
       "      <td>01º D.P. SE</td>\n",
       "      <td>S.PAULO</td>\n",
       "      <td>2024</td>\n",
       "      <td>AB5526</td>\n",
       "      <td>2</td>\n",
       "      <td>DECAP</td>\n",
       "      <td>DEL.SEC.1º CENTRO</td>\n",
       "      <td>...</td>\n",
       "      <td>Subtraído</td>\n",
       "      <td>Telecomunicação</td>\n",
       "      <td>Telefone Celular</td>\n",
       "      <td>Unidade</td>\n",
       "      <td>1</td>\n",
       "      <td>LG</td>\n",
       "      <td>NaN</td>\n",
       "      <td>NaN</td>\n",
       "      <td>1</td>\n",
       "      <td>2024</td>\n",
       "    </tr>\n",
       "    <tr>\n",
       "      <th>4</th>\n",
       "      <td>10101</td>\n",
       "      <td>DECAP</td>\n",
       "      <td>DEL.SEC.1º CENTRO</td>\n",
       "      <td>01º D.P. SE</td>\n",
       "      <td>S.PAULO</td>\n",
       "      <td>2024</td>\n",
       "      <td>AB6330</td>\n",
       "      <td>1</td>\n",
       "      <td>DECAP</td>\n",
       "      <td>DEL.SEC.1º CENTRO</td>\n",
       "      <td>...</td>\n",
       "      <td>Subtraído</td>\n",
       "      <td>Telecomunicação</td>\n",
       "      <td>Telefone Celular</td>\n",
       "      <td>Unidade</td>\n",
       "      <td>1</td>\n",
       "      <td>Samsung</td>\n",
       "      <td>S</td>\n",
       "      <td>N</td>\n",
       "      <td>1</td>\n",
       "      <td>2024</td>\n",
       "    </tr>\n",
       "  </tbody>\n",
       "</table>\n",
       "<p>5 rows × 51 columns</p>\n",
       "</div>"
      ],
      "text/plain": [
       "   ID_DELEGACIA          NOME_DEPARTAMENTO                   NOME_SECCIONAL  \\\n",
       "0         10008  DOPE-DEPTO OP POL ESTRAT.  DIV.POL.PORTO/AERO/PROT.TURISTA   \n",
       "1         10101                      DECAP                DEL.SEC.1º CENTRO   \n",
       "2         10101                      DECAP                DEL.SEC.1º CENTRO   \n",
       "3         10101                      DECAP                DEL.SEC.1º CENTRO   \n",
       "4         10101                      DECAP                DEL.SEC.1º CENTRO   \n",
       "\n",
       "                 NOME_DELEGACIA NOME_MUNICIPIO  ANO_BO  NUM_BO  VERSAO  \\\n",
       "0  DOPE - 01ª DP DEATUR CAPITAL        S.PAULO    2024  AG4396       1   \n",
       "1                   01º D.P. SE        S.PAULO    2024  AA5481       1   \n",
       "2                   01º D.P. SE        S.PAULO    2024  AB5526       2   \n",
       "3                   01º D.P. SE        S.PAULO    2024  AB5526       2   \n",
       "4                   01º D.P. SE        S.PAULO    2024  AB6330       1   \n",
       "\n",
       "  NOME_DEPARTAMENTO_CIRC NOME_SECCIONAL_CIRC  ... DESCR_MODO_OBJETO  \\\n",
       "0                  DECAP   DEL.SEC.1º CENTRO  ...         Subtraído   \n",
       "1                  DECAP   DEL.SEC.1º CENTRO  ...         Subtraído   \n",
       "2                  DECAP   DEL.SEC.1º CENTRO  ...         Subtraído   \n",
       "3                  DECAP   DEL.SEC.1º CENTRO  ...         Subtraído   \n",
       "4                  DECAP   DEL.SEC.1º CENTRO  ...         Subtraído   \n",
       "\n",
       "  DESCR_TIPO_OBJETO DESCR_SUBTIPO_OBJETO DESCR_UNIDADE QUANTIDADE_OBJETO  \\\n",
       "0   Telecomunicação     Telefone Celular       Unidade                 1   \n",
       "1   Telecomunicação     Telefone Celular       Unidade                 1   \n",
       "2   Telecomunicação     Telefone Celular       Unidade                 1   \n",
       "3   Telecomunicação     Telefone Celular       Unidade                 1   \n",
       "4   Telecomunicação     Telefone Celular       Unidade                 1   \n",
       "\n",
       "  MARCA_OBJETO FLAG_BLOQUEIO FLAG_DESBLOQUEIO MES   ANO  \n",
       "0        Apple             S                N   1  2024  \n",
       "1       Xiaomi           NaN              NaN   1  2024  \n",
       "2      Samsung           NaN              NaN   1  2024  \n",
       "3           LG           NaN              NaN   1  2024  \n",
       "4      Samsung             S                N   1  2024  \n",
       "\n",
       "[5 rows x 51 columns]"
      ]
     },
     "execution_count": 2,
     "metadata": {},
     "output_type": "execute_result"
    }
   ],
   "source": [
    "# Carregando a amostra fornecida em um novo arquivo menor\n",
    "file_sample_path = 'data/CelularesSubtraidos_2024.xlsx'\n",
    "data = pd.read_excel(file_sample_path)\n",
    "\n",
    "# Visualizando as primeiras linhas para análise\n",
    "data.head()\n"
   ]
  },
  {
   "cell_type": "markdown",
   "id": "f882777f-cc67-4208-b6b6-6fe366f5e810",
   "metadata": {},
   "source": [
    "## 1 - Análise Exploratória"
   ]
  },
  {
   "cell_type": "code",
   "execution_count": 3,
   "id": "510109a3-ec0a-4af2-b14d-74de13583d8f",
   "metadata": {},
   "outputs": [
    {
     "name": "stdout",
     "output_type": "stream",
     "text": [
      "        ID_DELEGACIA        ANO_BO        VERSAO  \\\n",
      "count   80985.000000  80985.000000  80985.000000   \n",
      "mean   569267.759017   2023.999728      1.147410   \n",
      "min     10004.000000   2023.000000      1.000000   \n",
      "25%     40302.000000   2024.000000      1.000000   \n",
      "50%    900020.000000   2024.000000      1.000000   \n",
      "75%    900020.000000   2024.000000      1.000000   \n",
      "max    990900.000000   2024.000000      9.000000   \n",
      "std    416853.500926      0.016480      0.464275   \n",
      "\n",
      "                  DATA_OCORRENCIA_BO           DATAHORA_REGISTRO_BO  \\\n",
      "count                          80985                          80985   \n",
      "mean   2024-02-05 01:26:55.899240704  2024-02-11 15:11:25.326912512   \n",
      "min              2005-02-09 00:00:00            2024-01-01 00:00:00   \n",
      "25%              2024-01-18 00:00:00            2024-01-22 00:00:00   \n",
      "50%              2024-02-08 00:00:00            2024-02-10 00:00:00   \n",
      "75%              2024-02-28 00:00:00            2024-02-29 00:00:00   \n",
      "max              2024-03-31 00:00:00            2024-03-31 00:00:00   \n",
      "std                              NaN                            NaN   \n",
      "\n",
      "                 DATA_COMUNICACAO_BO          DATAHORA_IMPRESSAO_BO  \\\n",
      "count                          80985                          80938   \n",
      "mean   2024-02-11 05:18:33.939618560  2024-02-12 07:22:42.198226176   \n",
      "min              2023-06-02 00:00:00            2024-01-01 00:00:00   \n",
      "25%              2024-01-21 00:00:00            2024-01-22 00:00:00   \n",
      "50%              2024-02-09 00:00:00            2024-02-11 00:00:00   \n",
      "75%              2024-02-29 00:00:00            2024-03-01 00:00:00   \n",
      "max              2024-04-01 00:00:00            2024-04-05 00:00:00   \n",
      "std                              NaN                            NaN   \n",
      "\n",
      "                CEP  LOGRADOURO_VERSAO  NUMERO_LOGRADOURO      LATITUDE  \\\n",
      "count  7.145500e+04       80985.000000       7.450400e+04  70968.000000   \n",
      "mean   7.092124e+06           1.006927       1.382465e+06    -21.258494   \n",
      "min    0.000000e+00           1.000000       0.000000e+00    -25.023758   \n",
      "25%    3.568000e+06           1.000000       7.100000e+01    -23.614819   \n",
      "50%    5.890300e+06           1.000000       2.610000e+02    -23.541607   \n",
      "75%    9.845665e+06           1.000000       8.010000e+02    -23.406240   \n",
      "max    9.990661e+07           7.000000       1.000000e+10      0.000000   \n",
      "std    4.891739e+06           0.115755       9.339122e+07      6.763767   \n",
      "\n",
      "          LONGITUDE   CONT_OBJETO  QUANTIDADE_OBJETO           MES      ANO  \n",
      "count  70968.000000  8.098500e+04       80985.000000  80985.000000  80985.0  \n",
      "mean     -42.508897  1.005993e+09           1.050627      1.872026   2024.0  \n",
      "min      -53.052287  1.003892e+09           1.000000      1.000000   2024.0  \n",
      "25%      -46.739875  1.005813e+09           1.000000      1.000000   2024.0  \n",
      "50%      -46.638588  1.005981e+09           1.000000      2.000000   2024.0  \n",
      "75%      -46.463940  1.006142e+09           1.000000      2.000000   2024.0  \n",
      "max        0.000000  1.006410e+09         600.000000      3.000000   2024.0  \n",
      "std       13.492292  2.143996e+05           3.105934      0.780688      0.0  \n"
     ]
    }
   ],
   "source": [
    "# Estatísticas descritivas das colunas numéricas\n",
    "print(data.describe())"
   ]
  },
  {
   "cell_type": "code",
   "execution_count": 4,
   "id": "a86ed209-68b7-4179-9303-d5709e094092",
   "metadata": {},
   "outputs": [
    {
     "name": "stdout",
     "output_type": "stream",
     "text": [
      "\n",
      "Contagem das marcas de objetos subtraídos:\n",
      "MARCA_OBJETO\n",
      "Samsung       28781\n",
      "Apple         20363\n",
      "Motorola      19287\n",
      "Xiaomi         7519\n",
      "Outros         2775\n",
      "LG             1210\n",
      "Asus            259\n",
      "Positivo        230\n",
      "Nokia           207\n",
      "Multilaser      159\n",
      "Huawei           46\n",
      "Alcatel          43\n",
      "Lenovo           30\n",
      "Siemens          28\n",
      "Sony             13\n",
      "BLU              10\n",
      "Microsoft         9\n",
      "ZTE               9\n",
      "BlackBerry        5\n",
      "HPE               2\n",
      "Name: count, dtype: int64\n"
     ]
    }
   ],
   "source": [
    "# Contagem das diferentes marcas de objetos subtraídos\n",
    "print(\"\\nContagem das marcas de objetos subtraídos:\")\n",
    "print(data['MARCA_OBJETO'].value_counts())"
   ]
  },
  {
   "cell_type": "code",
   "execution_count": 5,
   "id": "034b69be-a946-4153-9fac-857ebd7dea66",
   "metadata": {},
   "outputs": [
    {
     "name": "stdout",
     "output_type": "stream",
     "text": [
      "\n",
      "Contagem dos tipos de ocorrência:\n",
      "RUBRICA\n",
      "Roubo (art. 157)                                           34203\n",
      "Furto (art. 155)                                           32869\n",
      "Perda/Extravio                                              8661\n",
      "Localização/Apreensão e Entrega de veículo                  1506\n",
      "Estelionato (art. 171)                                       356\n",
      "                                                           ...  \n",
      "Praticar ato de abuso a animais (Art. 32)                      1\n",
      "Apropriar-se de bens do idoso (Art. 102)                       1\n",
      "Perturbação do trabalho ou do sossego alheios (art. 42)        1\n",
      "Violência psicológica contra a mulher (Art. 147-B)             1\n",
      "Perigo de contágio venéreo (art. 130)                          1\n",
      "Name: count, Length: 93, dtype: int64\n"
     ]
    }
   ],
   "source": [
    "# Contagem dos diferentes tipos de ocorrências registradas\n",
    "print(\"\\nContagem dos tipos de ocorrência:\")\n",
    "print(data['RUBRICA'].value_counts())"
   ]
  },
  {
   "cell_type": "code",
   "execution_count": 6,
   "id": "368cab28-96cc-436e-ba11-c26bfcc07b6a",
   "metadata": {},
   "outputs": [
    {
     "name": "stdout",
     "output_type": "stream",
     "text": [
      "\n",
      "Contagem das delegacias envolvidas:\n",
      "NOME_DELEGACIA\n",
      "DELEGACIA ELETRONICA           42221\n",
      "DELEGACIA ELETRONICA 1          4539\n",
      "DELEGACIA ELETRONICA 3          1632\n",
      "DELEGACIA ELETRONICA 2          1112\n",
      "49º D.P. SAO MATEUS              390\n",
      "                               ...  \n",
      "DEL.POL.ARANDU                     1\n",
      "3ªHOMICIDIOS-DEIC-DEINTER 6        1\n",
      "DEL.POL.RESTINGA                   1\n",
      "DEL.POL.ITIRAPUA                   1\n",
      "DEL.POL.ITABERÁ                    1\n",
      "Name: count, Length: 928, dtype: int64\n"
     ]
    }
   ],
   "source": [
    "# Contagem das diferentes delegacias envolvidas\n",
    "print(\"\\nContagem das delegacias envolvidas:\")\n",
    "print(data['NOME_DELEGACIA'].value_counts())"
   ]
  },
  {
   "cell_type": "markdown",
   "id": "9fb80429-1683-4686-a421-78d57b379929",
   "metadata": {},
   "source": [
    "## 2 - Análise dos Padrões Temporais"
   ]
  },
  {
   "cell_type": "code",
   "execution_count": 7,
   "id": "2387bb46-36cb-4e38-af69-8c0db9d0b9a5",
   "metadata": {},
   "outputs": [
    {
     "data": {
      "image/png": "[encoded data removed]",
      "text/plain": [
       "<Figure size 1000x500 with 1 Axes>"
      ]
     },
     "metadata": {},
     "output_type": "display_data"
    }
   ],
   "source": [
    "import matplotlib.pyplot as plt\n",
    "\n",
    "# Agrupando por mês e ano para encontrar os padrões\n",
    "temporal_group = data.groupby(['ANO', 'MES']).size().reset_index(name='Quantidade')\n",
    "temporal_group['Mês-Ano'] = temporal_group['MES'].astype(str) + \"-\" + temporal_group['ANO'].astype(str)\n",
    "\n",
    "# Plotando os dados\n",
    "plt.figure(figsize=(10, 5))\n",
    "plt.plot(temporal_group['Mês-Ano'], temporal_group['Quantidade'], marker='o')\n",
    "plt.xticks(rotation=45)\n",
    "plt.xlabel('Mês-Ano')\n",
    "plt.ylabel('Quantidade de Roubos')\n",
    "plt.title('Padrões Temporais de Roubos de Celulares')\n",
    "plt.grid(True)\n",
    "plt.tight_layout()\n",
    "plt.show()\n"
   ]
  },
  {
   "cell_type": "markdown",
   "id": "9aa7d260-128f-47f9-84f4-c0a08eed381e",
   "metadata": {},
   "source": [
    "## 3 - Análise de Frequência\n",
    "### A contagem da frequência de subtrações por delegacia ou distrito é essencial para identificar as áreas mais afetadas:"
   ]
  },
  {
   "cell_type": "code",
   "execution_count": 8,
   "id": "3c7143a9-29b3-4a3c-8274-d9cfd7b49a76",
   "metadata": {},
   "outputs": [
    {
     "name": "stdout",
     "output_type": "stream",
     "text": [
      "\n",
      "Principais delegacias com maior número de ocorrências:\n",
      "NOME_DELEGACIA\n",
      "DELEGACIA ELETRONICA        42221\n",
      "DELEGACIA ELETRONICA 1       4539\n",
      "DELEGACIA ELETRONICA 3       1632\n",
      "DELEGACIA ELETRONICA 2       1112\n",
      "49º D.P. SAO MATEUS           390\n",
      "44º D.P. GUAIANAZES           332\n",
      "DEL.POL.ITAQUAQUECETUBA       324\n",
      "73º D.P. JACANA               323\n",
      "16º D.P. VILA CLEMENTINO      304\n",
      "89º D.P. JARDIM TABOAO        287\n",
      "Name: count, dtype: int64\n"
     ]
    }
   ],
   "source": [
    "# Contagem por delegacia\n",
    "delegacia_count = data['NOME_DELEGACIA'].value_counts()\n",
    "\n",
    "# Exibindo as principais delegacias\n",
    "print(\"\\nPrincipais delegacias com maior número de ocorrências:\")\n",
    "print(delegacia_count.head(10))\n"
   ]
  },
  {
   "cell_type": "markdown",
   "id": "644d666b-159e-410b-98f4-c15d76a5d7ec",
   "metadata": {},
   "source": [
    "## 4 - Mapeamento Geográfico\n",
    "### \n",
    "Para o mapeamento geográfico, precisaremos de coordenadas ou informações sobre os bairros. Supondo que tenhamos coordenadas (latitude e longitude), a visualização poderia ser feita com Folium:"
   ]
  },
  {
   "cell_type": "code",
   "execution_count": 9,
   "id": "e8bf4ce0-f91d-4fee-9fb7-32b0d383fa45",
   "metadata": {},
   "outputs": [
    {
     "name": "stdout",
     "output_type": "stream",
     "text": [
      "\n",
      "Contagem de ocorrências por cidade:\n",
      "CIDADE\n",
      "S.PAULO                42883\n",
      "GUARULHOS               2270\n",
      "CAMPINAS                1748\n",
      "S.ANDRE                 1738\n",
      "S.BERNARDO DO CAMPO     1695\n",
      "                       ...  \n",
      "OLEO                       1\n",
      "ONDA VERDE                 1\n",
      "OSCAR BRESSANE             1\n",
      "LUPERCIO                   1\n",
      "NEVES PAULISTA             1\n",
      "Name: count, Length: 542, dtype: int64\n"
     ]
    }
   ],
   "source": [
    "# Contagem das diferentes delegacias envolvidas\n",
    "print(\"\\nContagem de ocorrências por cidade:\")\n",
    "print(data['CIDADE'].value_counts())"
   ]
  },
  {
   "cell_type": "code",
   "execution_count": 10,
   "id": "6065985f-52fc-4fe5-b0a3-37c1dfcb6c78",
   "metadata": {},
   "outputs": [
    {
     "name": "stdout",
     "output_type": "stream",
     "text": [
      "            BAIRRO  Quantidade\n",
      "831      PINHEIROS        1202\n",
      "25      BELA VISTA        1057\n",
      "854      REPUBLICA        1043\n",
      "1107  VILA MARIANA        1005\n",
      "22     BARRA FUNDA         917\n",
      "200     ITAIM BIBI         768\n",
      "164     CONSOLACAO         745\n",
      "104   CIDADE DUTRA         731\n",
      "873        SANTANA         712\n",
      "29      BOM RETIRO         637\n"
     ]
    }
   ],
   "source": [
    "# Filtrando apenas as ocorrências na cidade de São Paulo\n",
    "sao_paulo_data = data[data['NOME_MUNICIPIO'].str.contains('S.PAULO', case=False, na=False)]\n",
    "\n",
    "# Agrupando e contando a quantidade de ocorrências por bairro em São Paulo\n",
    "contagem_bairro_sp = sao_paulo_data.groupby('BAIRRO').size().reset_index(name='Quantidade')\n",
    "\n",
    "# Ordenando pela quantidade, do maior para o menor\n",
    "contagem_bairro_sp_sorted = contagem_bairro_sp.sort_values(by='Quantidade', ascending=False)\n",
    "\n",
    "# Exibindo as primeiras linhas do resultado\n",
    "print(contagem_bairro_sp_sorted.head(10))\n"
   ]
  },
  {
   "cell_type": "code",
   "execution_count": 11,
   "id": "fd29d3b4-9906-403d-a3cf-ab7e41b36c82",
   "metadata": {},
   "outputs": [
    {
     "name": "stdout",
     "output_type": "stream",
     "text": [
      "Registros com coordenadas inválidas (0 ou NaN): 16498\n",
      "Registros totais antes da limpeza: 80985\n",
      "Registros válidos após a limpeza: 64487\n"
     ]
    }
   ],
   "source": [
    "# Identificando registros com coordenadas inválidas (0, 0 ou NaN)\n",
    "invalid_coords = data[\n",
    "    (data['LATITUDE'].isna()) |\n",
    "    (data['LONGITUDE'].isna()) |\n",
    "    (data['LATITUDE'] == 0) |\n",
    "    (data['LONGITUDE'] == 0)\n",
    "]\n",
    "\n",
    "# Contando quantos registros serão perdidos\n",
    "num_invalid = len(invalid_coords)\n",
    "print(f\"Registros com coordenadas inválidas (0 ou NaN): {num_invalid}\")\n",
    "\n",
    "# Removendo registros inválidos\n",
    "geo_data_clean = data.drop(invalid_coords.index)\n",
    "\n",
    "# Verificando o total de registros restantes\n",
    "num_total = len(data)\n",
    "num_clean = len(geo_data_clean)\n",
    "print(f\"Registros totais antes da limpeza: {num_total}\")\n",
    "print(f\"Registros válidos após a limpeza: {num_clean}\")\n"
   ]
  },
  {
   "cell_type": "code",
   "execution_count": 12,
   "id": "353c6630-d67a-440f-be38-1668313288f3",
   "metadata": {},
   "outputs": [],
   "source": [
    "import folium\n",
    "\n",
    "# Exemplo de ponto central da cidade de São Paulo\n",
    "map_sp = folium.Map(location=[-23.550520, -46.633308], zoom_start=12)\n",
    "\n",
    "# Adicionando os pontos ao mapa (substitua 'LATITUDE' e 'LONGITUDE' pelos nomes corretos das colunas)\n",
    "for index, row in geo_data_clean.iterrows():\n",
    "    folium.CircleMarker([row['LATITUDE'], row['LONGITUDE']], radius=3, color='blue', fill=True).add_to(map_sp)\n",
    "\n",
    "# Salvando o mapa\n",
    "map_sp.save('mapa_roubos_celulares.html')\n"
   ]
  },
  {
   "cell_type": "code",
   "execution_count": 13,
   "id": "b6784f92-edaf-48ab-aa5e-d6ef5a7d1c90",
   "metadata": {},
   "outputs": [],
   "source": [
    "from folium.plugins import HeatMap\n",
    "\n",
    "# Exemplo de ponto central da cidade de São Paulo\n",
    "heatmap_sp = folium.Map(location=[-23.550520, -46.633308], zoom_start=12)\n",
    "\n",
    "# Preparando os dados para o mapa de calor (lista de listas [latitude, longitude])\n",
    "heat_data = [[row['LATITUDE'], row['LONGITUDE']] for index, row in geo_data_clean.iterrows()]\n",
    "\n",
    "# Adicionando o mapa de calor ao mapa existente\n",
    "HeatMap(heat_data).add_to(heatmap_sp)\n",
    "\n",
    "# Salvar o mapa como HTML\n",
    "heatmap_sp.save('mapa_calor_ocorrencias.html')\n"
   ]
  },
  {
   "cell_type": "code",
   "execution_count": 14,
   "id": "86735968-8e1a-4c0a-a812-1c8e107bded0",
   "metadata": {},
   "outputs": [],
   "source": [
    "from folium.plugins import HeatMap\n",
    "from folium import FeatureGroup, LayerControl\n",
    "\n",
    "# Criando o mapa base centrado na cidade de São Paulo\n",
    "map_sp = folium.Map(location=[-23.550520, -46.633308], zoom_start=12)\n",
    "\n",
    "# Criando um grupo de recursos para os pontos\n",
    "pontos_layer = FeatureGroup(name='Pontos de Ocorrência').add_to(map_sp)\n",
    "\n",
    "# Adicionando os pontos ao grupo de recursos\n",
    "for index, row in geo_data_clean.iterrows():\n",
    "    folium.CircleMarker([row['LATITUDE'], row['LONGITUDE']], radius=3, color='blue', fill=True).add_to(pontos_layer)\n",
    "\n",
    "# Preparando os dados para o mapa de calor (lista de listas [latitude, longitude])\n",
    "heat_data = [[row['LATITUDE'], row['LONGITUDE']] for index, row in geo_data_clean.iterrows()]\n",
    "\n",
    "# Criando um grupo de recursos para o mapa de calor\n",
    "heat_layer = FeatureGroup(name='Mapa de Calor').add_to(map_sp)\n",
    "\n",
    "# Adicionando o mapa de calor ao grupo de recursos\n",
    "HeatMap(heat_data).add_to(heat_layer)\n",
    "\n",
    "# Adicionando o controle de camadas ao mapa\n",
    "LayerControl().add_to(map_sp)\n",
    "\n",
    "# Salvando o mapa atualizado com controle de camadas\n",
    "map_sp.save('mapa_roubos_celulares_com_calor_e_camadas.html')\n"
   ]
  },
  {
   "cell_type": "markdown",
   "id": "e02c275d-4d67-4529-bf54-3cf415652003",
   "metadata": {},
   "source": [
    "## 5 - Correlação com Outras Variáveis\n",
    "### Para verificar correlações, podemos explorar as relações entre variáveis numéricas e também categorias, usando o método corr() do Pandas."
   ]
  },
  {
   "cell_type": "code",
   "execution_count": 15,
   "id": "be73b555-e8f1-4eed-91d1-292e48c5380e",
   "metadata": {},
   "outputs": [
    {
     "name": "stdout",
     "output_type": "stream",
     "text": [
      "    CD_MUN            NM_MUN SIGLA_UF  AREA_KM2        nome_munic  \\\n",
      "0  3500105        Adamantina       SP   411.987        ADAMANTINA   \n",
      "1  3500204            Adolfo       SP   211.055            ADOLFO   \n",
      "2  3500303             Aguaí       SP   474.554             AGUAI   \n",
      "3  3500402    Águas da Prata       SP   142.673    AGUAS DA PRATA   \n",
      "4  3500501  Águas de Lindóia       SP    60.126  AGUAS DE LINDOIA   \n",
      "\n",
      "                                            geometry  \n",
      "0  POLYGON ((-51.09557 -21.57029, -51.09617 -21.5...  \n",
      "1  POLYGON ((-49.61249 -21.26110, -49.61249 -21.2...  \n",
      "2  POLYGON ((-47.01254 -22.00527, -47.01219 -22.0...  \n",
      "3  POLYGON ((-46.71875 -21.95837, -46.71878 -21.9...  \n",
      "4  POLYGON ((-46.61761 -22.51172, -46.61864 -22.5...  \n"
     ]
    }
   ],
   "source": [
    "import geopandas as gpd\n",
    "\n",
    "# Carregar o shapefile com os limites municipais\n",
    "shapefile_path = 'data/SP_Municipios_2022.shp'\n",
    "municipios_gdf = gpd.read_file(shapefile_path)\n",
    "\n",
    "# Visualizar as primeiras linhas do GeoDataFrame\n",
    "print(municipios_gdf.head())\n"
   ]
  },
  {
   "cell_type": "code",
   "execution_count": 16,
   "id": "cfee6578-e103-4116-b95f-0540beb38a7f",
   "metadata": {},
   "outputs": [
    {
     "name": "stdout",
     "output_type": "stream",
     "text": [
      "     NOME_MUNICIPIO  Quantidade\n",
      "0        ADAMANTINA           6\n",
      "1            ADOLFO           1\n",
      "2             AGUAI          25\n",
      "3    AGUAS DA PRATA           3\n",
      "4  AGUAS DE LINDOIA           5\n"
     ]
    }
   ],
   "source": [
    "# Agrupando e contando ocorrências por município\n",
    "contagem_municipios = geo_data_clean.groupby('NOME_MUNICIPIO').size().reset_index(name='Quantidade')\n",
    "\n",
    "# Visualizando as primeiras linhas da contagem\n",
    "print(contagem_municipios.head())\n"
   ]
  },
  {
   "cell_type": "code",
   "execution_count": 29,
   "id": "53806fff-cfc9-4edf-848c-12c840247839",
   "metadata": {},
   "outputs": [
    {
     "name": "stdout",
     "output_type": "stream",
     "text": [
      "         nome_munic  Quantidade\n",
      "0        ADAMANTINA         6.0\n",
      "1            ADOLFO         1.0\n",
      "2             AGUAI        25.0\n",
      "3    AGUAS DA PRATA         3.0\n",
      "4  AGUAS DE LINDOIA         5.0\n"
     ]
    }
   ],
   "source": [
    "# Normalizar o nome dos municípios no shapefile para facilitar a mesclagem\n",
    "municipios_gdf['nome_munic'] = municipios_gdf['nome_munic'].str.upper()\n",
    "\n",
    "# Realizando a mesclagem\n",
    "municipios_gdf = municipios_gdf.merge(contagem_municipios, left_on='nome_munic', right_on='NOME_MUNICIPIO', how='left')\n",
    "\n",
    "# Preenchendo NaN com 0 para municípios sem ocorrências registradas\n",
    "municipios_gdf['Quantidade'] = municipios_gdf['Quantidade'].fillna(0)\n",
    "\n",
    "# Verificando a estrutura do GeoDataFrame após a mesclagem\n",
    "print(municipios_gdf[['nome_munic', 'Quantidade']].head())\n"
   ]
  },
  {
   "cell_type": "code",
   "execution_count": 41,
   "id": "13d0be43-e1e2-49d6-850a-c20ab260230e",
   "metadata": {},
   "outputs": [],
   "source": [
    "import folium\n",
    "\n",
    "# Criar o mapa centrado em uma área representativa de São Paulo\n",
    "mapa_cidades = folium.Map(location=[-23.550520, -46.633308], zoom_start=6)\n",
    "\n",
    "# Adicionar o mapa coroplético\n",
    "choropleth = folium.Choropleth(\n",
    "    geo_data=municipios_gdf,\n",
    "    name='Ocorrências por Município',\n",
    "    data=municipios_gdf,\n",
    "    columns=['nome_munic', 'Quantidade'],\n",
    "    key_on='feature.properties.nome_munic',\n",
    "    fill_color='YlOrRd',  # Você pode escolher outra paleta\n",
    "    fill_opacity=0.7,\n",
    "    line_opacity=0.2,\n",
    "    legend_name='Número de Ocorrências'\n",
    ").add_to(mapa_cidades)\n",
    "\n",
    "# Para adicionar tooltips, é necessário utilizar folium.GeoJson separadamente\n",
    "folium.GeoJson(\n",
    "    data=municipios_gdf,\n",
    "    style_function=lambda feature: {\n",
    "        'fillColor': choropleth.color_scale(feature['properties']['Quantidade']),\n",
    "        'color': 'black',\n",
    "        'weight': 0.5,\n",
    "        'fillOpacity': 0.7,\n",
    "    },\n",
    "    tooltip=folium.features.GeoJsonTooltip(\n",
    "        fields=['nome_munic', 'Quantidade'],\n",
    "        aliases=['Município:', 'Ocorrências:'],\n",
    "        localize=True,\n",
    "        sticky=False\n",
    "    )\n",
    ").add_to(mapa_cidades)\n",
    "\n",
    "\n",
    "# Adicionar controle de camadas para alternar visualizações\n",
    "folium.LayerControl().add_to(mapa_cidades)\n",
    "\n",
    "# Salvar o mapa como HTML\n",
    "mapa_cidades.save('mapa_coropletico_ocorrencias_municipios.html')\n"
   ]
  },
  {
   "cell_type": "code",
   "execution_count": 43,
   "id": "d842c1be-fd39-459e-be54-b68109d84228",
   "metadata": {},
   "outputs": [],
   "source": [
    "import folium\n",
    "\n",
    "# Criar o mapa centrado em uma área representativa de São Paulo\n",
    "mapa_cidades = folium.Map(location=[-23.550520, -46.633308], zoom_start=6)\n",
    "\n",
    "# Definir os intervalos para a escala de cores\n",
    "threshold_scale = [0, 10, 50, 10000, 20000, 36000]\n",
    "\n",
    "# Adicionar o mapa coroplético com intervalos personalizados\n",
    "choropleth=folium.Choropleth(\n",
    "    geo_data=municipios_gdf,\n",
    "    name='Ocorrências por Município',\n",
    "    data=municipios_gdf,\n",
    "    columns=['nome_munic', 'Quantidade'],\n",
    "    key_on='feature.properties.nome_munic',\n",
    "    fill_color='YlOrRd',  # Você pode escolher outra paleta\n",
    "    fill_opacity=0.7,\n",
    "    line_opacity=0.2,\n",
    "    legend_name='Número de Ocorrências',\n",
    "    threshold_scale=threshold_scale  # Aplicar a escala definida\n",
    ").add_to(mapa_cidades)\n",
    "\n",
    "# Utilizar folium.GeoJson para adicionar tooltips e pop-ups\n",
    "folium.GeoJson(\n",
    "    data=municipios_gdf,\n",
    "    style_function=lambda feature: {\n",
    "        'fillColor': choropleth.color_scale(feature['properties']['Quantidade']),\n",
    "        'color': 'black',\n",
    "        'weight': 0.5,\n",
    "        'fillOpacity': 0.7,\n",
    "    },\n",
    "    popup=folium.features.GeoJsonPopup(\n",
    "        fields=['nome_munic', 'Quantidade'],\n",
    "        aliases=['Município:', 'Ocorrências:'],\n",
    "        localize=True\n",
    "    )\n",
    ").add_to(mapa_cidades)\n",
    "\n",
    "# Adicionar controle de camadas para alternar visualizações\n",
    "folium.LayerControl().add_to(mapa_cidades)\n",
    "\n",
    "# Salvar o mapa como HTML\n",
    "mapa_cidades.save('mapa_coropletico_ocorrencias_municipios.html')\n"
   ]
  },
  {
   "cell_type": "code",
   "execution_count": 25,
   "id": "2635900d-5ad5-4b2e-92f2-4c38402b8aad",
   "metadata": {},
   "outputs": [
    {
     "name": "stdout",
     "output_type": "stream",
     "text": [
      "Collecting jenkspyNote: you may need to restart the kernel to use updated packages.\n",
      "\n",
      "  Obtaining dependency information for jenkspy from https://files.pythonhosted.org/packages/26/1e/dd9cbb0694a36a52fe1d0d63db9627b58c9491f3249aed3fe4b9c6bc79da/jenkspy-0.4.0-cp311-cp311-win_amd64.whl.metadata\n",
      "  Downloading jenkspy-0.4.0-cp311-cp311-win_amd64.whl.metadata (6.2 kB)\n",
      "Requirement already satisfied: numpy in c:\\users\\fabio.souza\\appdata\\local\\anaconda3\\lib\\site-packages (from jenkspy) (1.25.2)\n",
      "Downloading jenkspy-0.4.0-cp311-cp311-win_amd64.whl (224 kB)\n",
      "   ---------------------------------------- 0.0/224.4 kB ? eta -:--:--\n",
      "   ----- ---------------------------------- 30.7/224.4 kB 1.3 MB/s eta 0:00:01\n",
      "   ---------------------------------------- 224.4/224.4 kB 3.4 MB/s eta 0:00:00\n",
      "Installing collected packages: jenkspy\n",
      "Successfully installed jenkspy-0.4.0\n"
     ]
    }
   ],
   "source": [
    "pip install jenkspy"
   ]
  },
  {
   "cell_type": "code",
   "execution_count": 35,
   "id": "89906887-184a-40c3-8126-5b6f8c7388ed",
   "metadata": {},
   "outputs": [],
   "source": [
    "import folium\n",
    "import geopandas as gpd\n",
    "import jenkspy\n",
    "\n",
    "\n",
    "# Calcular os natural breaks (Jenks) para os valores de 'Quantidade'\n",
    "breaks = jenkspy.jenks_breaks(municipios_gdf['Quantidade'], 7)  # 5 é o número de classes desejado\n",
    "\n",
    "# Criar o mapa centrado no estado de São Paulo\n",
    "mapa_cidades = folium.Map(location=[-23.550520, -46.633308], zoom_start=6)\n",
    "\n",
    "# Adicionar o mapa coroplético com natural breaks\n",
    "folium.Choropleth(\n",
    "    geo_data=municipios_gdf,\n",
    "    name='Ocorrências por Município',\n",
    "    data=municipios_gdf,\n",
    "    columns=['nome_munic', 'Quantidade'],\n",
    "    key_on='feature.properties.nome_munic',\n",
    "    fill_color='YlOrRd',  # Escolha a paleta de cores desejada\n",
    "    fill_opacity=0.7,\n",
    "    line_opacity=0.2,\n",
    "    legend_name='Número de Ocorrências',\n",
    "    threshold_scale=breaks  # Aplicar os natural breaks\n",
    ").add_to(mapa_cidades)\n",
    "\n",
    "# Adicionar controle de camadas\n",
    "folium.LayerControl().add_to(mapa_cidades)\n",
    "\n",
    "# Salvar o mapa como HTML\n",
    "mapa_cidades.save('mapa_coropletico_ocorrencias_municipios_com_jenks.html')\n"
   ]
  },
  {
   "cell_type": "code",
   "execution_count": null,
   "id": "c760266c-ead3-4040-94d1-94a8aade9b57",
   "metadata": {},
   "outputs": [],
   "source": []
  }
 ],
 "metadata": {
  "kernelspec": {
   "display_name": "Python 3 (ipykernel)",
   "language": "python",
   "name": "python3"
  },
  "language_info": {
   "codemirror_mode": {
    "name": "ipython",
    "version": 3
   },
   "file_extension": ".py",
   "mimetype": "text/x-python",
   "name": "python",
   "nbconvert_exporter": "python",
   "pygments_lexer": "ipython3",
   "version": "3.11.5"
  }
 },
 "nbformat": 4,
 "nbformat_minor": 5
}
